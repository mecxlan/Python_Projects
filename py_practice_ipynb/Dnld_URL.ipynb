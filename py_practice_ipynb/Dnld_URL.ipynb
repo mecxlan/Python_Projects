{
 "cells": [
  {
   "cell_type": "markdown",
   "id": "98c0df54",
   "metadata": {},
   "source": [
    "Author: [Muhammad Arslan](https://www.linkedin.com/in/mecxlan/)"
   ]
  },
  {
   "cell_type": "markdown",
   "id": "521c534f-ca0e-4540-9ceb-f43cd5be1a66",
   "metadata": {
    "tags": []
   },
   "source": [
    "<center>\n",
    "    <a href=\"https://www.linkedin.com/in/mecxlan/\"><img src=\"images/mecxlan_logo.svg\" width=\"200px\" height=\"200px\" alt=\"mecxlan_logo \"></a>\n",
    "\n",
    "**<h1>Download and Unzip Data from Uniform Resource Locator(URL)</h1>**\n",
    "    </center>"
   ]
  },
  {
   "cell_type": "markdown",
   "id": "42ae072e-809d-49a2-b0cf-fdeea608dccc",
   "metadata": {
    "jp-MarkdownHeadingCollapsed": true,
    "tags": []
   },
   "source": [
    "\n",
    "Estimate time needed: **07** minutes \n",
    "\n",
    "## Objectives\n",
    "\n",
    "After completing this lab you'll be able to:\n",
    "\n",
    "* Understand the Basics for downloading data from URL using Python\n"
   ]
  },
  {
   "cell_type": "markdown",
   "id": "431a2f3f-fabe-4473-8819-e16afbc4b139",
   "metadata": {
    "tags": []
   },
   "source": [
    "\n",
    "## Pre Requesits\n",
    "\n",
    "Libraries required for Downloading data via URL are \n",
    "<li>Package: <code>js</code> Library: <code>fetch</code></li>\n",
    "<li>Library:  <code>io</code></li>\n",
    "\n",
    "\n",
    "<hr>"
   ]
  },
  {
   "cell_type": "markdown",
   "id": "2426d70a-cdc3-4f51-9aa4-52a1141ac331",
   "metadata": {
    "tags": []
   },
   "source": [
    "`!` package_manager => Implement Code in Shell Commands at Backend\n",
    " \n",
    " package_manager may be `pip`, `conda`, or `mamba` used for the installation of packages"
   ]
  },
  {
   "cell_type": "code",
   "execution_count": 3,
   "id": "b2e5caad-9298-4fd2-b377-37f38efc0d23",
   "metadata": {
    "tags": []
   },
   "outputs": [
    {
     "ename": "ModuleNotFoundError",
     "evalue": "No module named 'js'",
     "output_type": "error",
     "traceback": [
      "\u001b[1;31m---------------------------------------------------------------------------\u001b[0m",
      "\u001b[1;31mModuleNotFoundError\u001b[0m                       Traceback (most recent call last)",
      "Cell \u001b[1;32mIn[3], line 4\u001b[0m\n\u001b[0;32m      1\u001b[0m \u001b[38;5;66;03m#How to download the data using URL\u001b[39;00m\n\u001b[0;32m      2\u001b[0m \n\u001b[0;32m      3\u001b[0m \u001b[38;5;66;03m# !pip install js \u001b[39;00m\n\u001b[1;32m----> 4\u001b[0m \u001b[38;5;28;01mfrom\u001b[39;00m \u001b[38;5;21;01mjs\u001b[39;00m \u001b[38;5;28;01mimport\u001b[39;00m fetch\n\u001b[0;32m      5\u001b[0m \u001b[38;5;28;01mimport\u001b[39;00m \u001b[38;5;21;01mio\u001b[39;00m\n\u001b[0;32m      7\u001b[0m URL \u001b[38;5;241m=\u001b[39m \u001b[38;5;124m\"\u001b[39m\u001b[38;5;124mhttps://s3.us.cloud-object-storage.appdomain.cloud/cf-courses-data/CognitiveClass/DL0110EN/edx_project/circle.zip\u001b[39m\u001b[38;5;124m\"\u001b[39m\n",
      "\u001b[1;31mModuleNotFoundError\u001b[0m: No module named 'js'"
     ]
    }
   ],
   "source": [
    "#How to download the data using URL\n",
    "\n",
    "# !pip install js \n",
    "from js import fetch\n",
    "import io\n",
    "\n",
    "URL = \"https://s3.us.cloud-object-storage.appdomain.cloud/cf-courses-data/CognitiveClass/DL0110EN/edx_project/circle.zip\"\n",
    "resp = await fetch(URL)\n",
    "text = io.BytesIO((await resp.arrayBuffer()).to_py())"
   ]
  },
  {
   "cell_type": "code",
   "execution_count": 5,
   "id": "52b04bdf-c186-4163-aac0-22fa0cb3adf8",
   "metadata": {
    "tags": []
   },
   "outputs": [
    {
     "name": "stderr",
     "output_type": "stream",
     "text": [
      "'unzip' is not recognized as an internal or external command,\n",
      "operable program or batch file.\n",
      "'unzip' is not recognized as an internal or external command,\n",
      "operable program or batch file.\n"
     ]
    }
   ],
   "source": [
    "# Unzipping a folder\n",
    "!unzip circle.zip\n",
    "\n",
    "# It's a good idea to apply the -o and -q when unzipping to overwrite any existing folder and quit \n",
    "!unzip -o -q circle.zip"
   ]
  },
  {
   "cell_type": "markdown",
   "id": "ccde18ba-8f8c-4afc-b4e6-8352b94afe97",
   "metadata": {
    "tags": []
   },
   "source": [
    "<h2>Change Log</h2>"
   ]
  },
  {
   "cell_type": "markdown",
   "id": "92ef7890-528b-47d9-9022-f16f2f55ccd0",
   "metadata": {},
   "source": [
    "\n",
    "<table>\n",
    "    <tr>\n",
    "        <th>Date (YYYY-MM-DD)</th>\n",
    "        <th>Version</th>\n",
    "        <th>Changed By</th>\n",
    "        <th>Change Description</th>\n",
    "    </tr>\n",
    "    <tr>\n",
    "        <td>2023-07-09</td>\n",
    "        <td>0.1</td>\n",
    "        <td>Arslan</td>\n",
    "        <td>Alignments</td>\n",
    "    </tr>\n",
    "</table>\n"
   ]
  },
  {
   "cell_type": "markdown",
   "id": "d2650507-3b7d-45be-b59e-d4ef7facf4ae",
   "metadata": {
    "tags": []
   },
   "source": [
    "<hr>\n",
    "\n",
    "<h3 align=\"center\"><a href=\"https://www.linkedin.com/in/mecxlan/\"> © Mecxlan </a><h3/>\n"
   ]
  }
 ],
 "metadata": {
  "kernelspec": {
   "display_name": "Python 3 (ipykernel)",
   "language": "python",
   "name": "python3"
  },
  "language_info": {
   "codemirror_mode": {
    "name": "ipython",
    "version": 3
   },
   "file_extension": ".py",
   "mimetype": "text/x-python",
   "name": "python",
   "nbconvert_exporter": "python",
   "pygments_lexer": "ipython3",
   "version": "3.10.11"
  }
 },
 "nbformat": 4,
 "nbformat_minor": 5
}
