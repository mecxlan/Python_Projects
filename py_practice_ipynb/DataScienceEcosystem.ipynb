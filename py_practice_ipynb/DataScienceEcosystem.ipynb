{
 "cells": [
  {
   "cell_type": "markdown",
   "id": "2c6eb739",
   "metadata": {},
   "source": [
    "**Author:** [Muhammad Arslan](https://www.linkedin.com/in/mecxlan/)"
   ]
  },
  {
   "cell_type": "markdown",
   "id": "a650a8bd",
   "metadata": {},
   "source": [
    "<center>\n",
    "    <a href=\"https://www.linkedin.com/in/mecxlan/\"><img src=\"images/mecxlan_logo.svg\" width=\"200px\" height=\"200px\" alt=\"mecxlan logo \"></a>\n",
    "\n",
    "**<h1>Installings Packages Using Package Manager</h1>**\n",
    "    </center>"
   ]
  },
  {
   "cell_type": "markdown",
   "id": "99178885-9a61-43ff-919e-2ab28eed9c9b",
   "metadata": {},
   "source": [
    "# Data Science Tools and Ecosystem"
   ]
  },
  {
   "cell_type": "markdown",
   "id": "f08eba36-fae0-4e5c-bdf9-a7026d7aea64",
   "metadata": {},
   "source": [
    "## Introduction:\n",
    "\n",
    "In this notebook, Data Science Tools and Ecosystem are summarized."
   ]
  },
  {
   "cell_type": "markdown",
   "id": "3e50cde6-ed3f-4eea-8bcd-9b27ae28ea53",
   "metadata": {},
   "source": [
    "## Objectives:\n",
    "\n",
    "## Objectives:\n",
    "\n",
    "* List popular languages for Data Science\n",
    "* List commonly used libraries for Data Science\n",
    "* Describe some of the development environment open source tools used in Data Science\n",
    "* Evaluate arithmetic expressions in Python\n",
    "* Convert minutes to hours in Python"
   ]
  },
  {
   "cell_type": "markdown",
   "id": "78b2dfe9-eb3d-4203-9afa-1e26255e7ca6",
   "metadata": {},
   "source": [
    "Some of the popular languages that Data Scientists use are:\n",
    "1. Python \n",
    "2. R\n",
    "3. SQL\n",
    "4. Julia \n",
    "5. Scala\n"
   ]
  },
  {
   "cell_type": "markdown",
   "id": "87d8cf5c-7fcc-4e04-86d5-0c0dbbab41b3",
   "metadata": {},
   "source": [
    "Some of the commonly used libraries used by Data Scientists include:\n",
    "\n",
    "1. Numpy \n",
    "2. Pandas \n",
    "3. Matplotlib\n",
    "\n",
    "\n",
    "Other commonly used data science libraries include:\n",
    "\n",
    "* SciPy\n",
    "* Scikit-Learn\n",
    "* TensorFlow\n",
    "* Keras \n",
    "* Plotly\n",
    "* Bokeh\n"
   ]
  },
  {
   "cell_type": "markdown",
   "id": "9440af51-a61c-4886-818e-4cd26587545a",
   "metadata": {},
   "source": [
    "| Data Science Tools |  |\n",
    "|---|---|\n",
    "| Jupyter Notebook | A web-based interactive development environment (IDE) that allows you to create and share documents that contain live code, equations, visualizations, and narrative text. |\n",
    "| RStudio | An integrated development environment (IDE) for the R programming language. It provides a variety of features that make it easy to write, run, and debug R code. |\n",
    "| Google Colaboratory | A Jupyter notebook environment that runs in the cloud. It allows you to create and share documents that contain live code, equations, visualizations, and narrative text. |\n",
    "\n",
    "These are just a few of the many development environment open source tools that are used in data science. Other popular tools include:\n",
    "\n",
    "* Spyder\n",
    "* PyCharm\n",
    "* Visual Studio Code\n",
    "* Zeppelin\n",
    "* Orange\n",
    "\n",
    "These tools offer a variety of features that make them well-suited for different data science tasks. For example, Jupyter Notebook is a good choice for prototyping and exploring data, while RStudio is a good choice for developing and deploying statistical models.\n",
    "\n"
   ]
  },
  {
   "cell_type": "markdown",
   "id": "cc4aa31a-8086-4129-99d9-de7afdf8838d",
   "metadata": {},
   "source": [
    "### Below are a few examples of evaluating arithmetic expressions in Python.\n"
   ]
  },
  {
   "cell_type": "code",
   "execution_count": 1,
   "id": "acf9c42b-1ce4-494b-995e-0bd2bcd5dd95",
   "metadata": {
    "tags": []
   },
   "outputs": [
    {
     "name": "stdout",
     "output_type": "stream",
     "text": [
      "3\n",
      "2\n",
      "6\n",
      "3.0\n",
      "1\n",
      "8\n"
     ]
    }
   ],
   "source": [
    "# Addition \n",
    "print(1 + 2)\n",
    "# 3\n",
    "\n",
    "# Subtraction \n",
    "print(5 - 3)\n",
    "# 2\n",
    "\n",
    "# Multiplication\n",
    "print(2 * 3)\n",
    "# 6\n",
    "\n",
    "# Division \n",
    "print(6 / 2)\n",
    "# 3\n",
    "\n",
    "# Modulus\n",
    "print(7 % 2)\n",
    "# 1\n",
    "\n",
    "# Exponentiation \n",
    "print(2 ** 3)\n",
    "# 8"
   ]
  },
  {
   "cell_type": "code",
   "execution_count": 4,
   "id": "a51576be-a55a-4d1d-9424-ebd5f69d44e0",
   "metadata": {
    "tags": []
   },
   "outputs": [
    {
     "data": {
      "text/plain": [
       "17"
      ]
     },
     "execution_count": 4,
     "metadata": {},
     "output_type": "execute_result"
    }
   ],
   "source": [
    "# This is a simple arithmetic expression to multiply then add integers\n",
    "(3 * 4) + 5\n",
    "# 17"
   ]
  },
  {
   "cell_type": "code",
   "execution_count": 5,
   "id": "d6387f51-ce27-4922-ac59-a0f83b757a10",
   "metadata": {
    "tags": []
   },
   "outputs": [
    {
     "name": "stdout",
     "output_type": "stream",
     "text": [
      "3.3333333333333335\n"
     ]
    }
   ],
   "source": [
    "# This will convert 200 minutes to hours by dividing by 60\n",
    "\n",
    "min = 200\n",
    "hours = min / 60\n",
    "\n",
    "print(hours)"
   ]
  }
 ],
 "metadata": {
  "kernelspec": {
   "display_name": "Python",
   "language": "python",
   "name": "conda-env-python-py"
  },
  "language_info": {
   "codemirror_mode": {
    "name": "ipython",
    "version": 3
   },
   "file_extension": ".py",
   "mimetype": "text/x-python",
   "name": "python",
   "nbconvert_exporter": "python",
   "pygments_lexer": "ipython3",
   "version": "3.7.12"
  }
 },
 "nbformat": 4,
 "nbformat_minor": 5
}
