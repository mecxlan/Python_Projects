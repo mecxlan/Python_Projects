{
 "cells": [
  {
   "cell_type": "markdown",
   "id": "a9b68b12",
   "metadata": {},
   "source": [
    "Author: [Muhammad Arslan](https://www.linkedin.com/in/mecxlan/)"
   ]
  },
  {
   "cell_type": "markdown",
   "id": "521c534f-ca0e-4540-9ceb-f43cd5be1a66",
   "metadata": {
    "tags": []
   },
   "source": [
    "<center>\n",
    "    <a href=\"https://www.linkedin.com/in/mecxlan/\"><img src=\"images\\mecxlan_logo.svg\" width=\"200px\" height=\"200px\" alt=\"mecxlan logo \"></a>\n",
    "\n",
    "<h1>Welcome to The Python basics for Data Science/ Artificial Intellegence/ Development</h1>\n",
    "    </center>"
   ]
  },
  {
   "cell_type": "markdown",
   "id": "42ae072e-809d-49a2-b0cf-fdeea608dccc",
   "metadata": {
    "jp-MarkdownHeadingCollapsed": true,
    "tags": []
   },
   "source": [
    "<center><h3>Module 1.1</h3></center>\n",
    "\n",
    "Estimate time needed: **30** minutes \n",
    "\n",
    "## Objectives\n",
    "\n",
    "After completing this lab you'll be able to:\n",
    "\n",
    "* Understand the Basics of Python Programming Language"
   ]
  },
  {
   "cell_type": "markdown",
   "id": "431a2f3f-fabe-4473-8819-e16afbc4b139",
   "metadata": {
    "tags": []
   },
   "source": [
    "\n",
    "## Table of Contents \n",
    "\n",
    "<div class=\"alert alert-block alert-info\" style=\"margin-top: 20px\">\n",
    "<li><a href=\"#ref0\">Print</a></li>\n",
    "<li><a href=\"#ref1\">Types</a></li>\n",
    "<li><a href=#ref2>String Operations</a></li>\n",
    "\n",
    "</div>\n"
   ]
  },
  {
   "cell_type": "markdown",
   "id": "b0c4ea2b-bd7c-4b2a-b019-0f0a594da4fe",
   "metadata": {
    "tags": []
   },
   "source": [
    "<hr id = \"ref0\">\n",
    "\n",
    "## Printing Hello Pakistan in a line ##"
   ]
  },
  {
   "cell_type": "code",
   "execution_count": 37,
   "id": "52b04bdf-c186-4163-aac0-22fa0cb3adf8",
   "metadata": {
    "tags": []
   },
   "outputs": [
    {
     "name": "stdout",
     "output_type": "stream",
     "text": [
      "Hello Pakistan\n"
     ]
    }
   ],
   "source": [
    "print(\"Hello Pakistan\")"
   ]
  },
  {
   "cell_type": "markdown",
   "id": "7fe75a07-4cf7-4a98-88e2-e4a9bbbd9dc1",
   "metadata": {},
   "source": [
    "Now \n",
    "Print it in two lines"
   ]
  },
  {
   "cell_type": "code",
   "execution_count": 36,
   "id": "73387cb1-c2b4-4a07-914f-d724d391a49d",
   "metadata": {
    "tags": []
   },
   "outputs": [
    {
     "name": "stdout",
     "output_type": "stream",
     "text": [
      "Hello\n",
      "Pakistan\n"
     ]
    }
   ],
   "source": [
    "print(\"Hello\\nPakistan\")"
   ]
  },
  {
   "cell_type": "markdown",
   "id": "6f8d96c4-a490-47cb-91db-32e338a10b52",
   "metadata": {},
   "source": [
    "Try something unique"
   ]
  },
  {
   "cell_type": "code",
   "execution_count": 33,
   "id": "766d98fc-3755-4a97-8267-b7e05d20a98b",
   "metadata": {
    "tags": []
   },
   "outputs": [
    {
     "name": "stdout",
     "output_type": "stream",
     "text": [
      "I \n",
      "\t💖 \n",
      "\t\t🔰Pakistan  \n"
     ]
    }
   ],
   "source": [
    "print(\"I \\n\\t💖 \\n\\t\\t🔰Pakistan  \")"
   ]
  },
  {
   "cell_type": "markdown",
   "id": "6503b7d4-4053-498f-a2f4-bd379bc812b6",
   "metadata": {},
   "source": [
    "Question: <code>\\t</code> == __🤔__spaces  ???"
   ]
  },
  {
   "cell_type": "code",
   "execution_count": 13,
   "id": "0845f266-e4d8-48ab-bb55-460262171a81",
   "metadata": {
    "tags": []
   },
   "outputs": [
    {
     "data": {
      "text/plain": [
       "\"\\nThat's also a comment but multiple lines comment \""
      ]
     },
     "execution_count": 13,
     "metadata": {},
     "output_type": "execute_result"
    }
   ],
   "source": [
    "# Comment\n",
    "'''\n",
    "That's also a comment but multiple lines comment '''"
   ]
  },
  {
   "cell_type": "markdown",
   "id": "e3a6c028-9320-4c91-a85c-3c73f7459038",
   "metadata": {
    "tags": []
   },
   "source": [
    "<hr id = \"ref1\">\n",
    "\n",
    "## Types ##\n"
   ]
  },
  {
   "cell_type": "markdown",
   "id": "84f69ddc-d780-4bc6-a9fb-4b46da0ce4bf",
   "metadata": {
    "tags": []
   },
   "source": [
    " \n",
    "\n",
    "## Data <code>Type</code> \n",
    "\n",
    "<code>int</code> = integer \n",
    "\n",
    "<code>float</code> = Decimal \n",
    "\n",
    "<code>str</code> = string \n",
    "\n",
    "<code>bool</code> = boolean "
   ]
  },
  {
   "cell_type": "code",
   "execution_count": 50,
   "id": "3df5af0f-3fb7-4395-b873-aeb0b188f132",
   "metadata": {
    "tags": []
   },
   "outputs": [
    {
     "data": {
      "text/plain": [
       "(str, bool, int, float)"
      ]
     },
     "execution_count": 50,
     "metadata": {},
     "output_type": "execute_result"
    }
   ],
   "source": [
    " type(\"Pakistan\"), type(True), type(8), type(9.8)"
   ]
  },
  {
   "cell_type": "markdown",
   "id": "8b0f409a-c1e2-46db-9fef-dd01f1f35e8e",
   "metadata": {
    "tags": []
   },
   "source": [
    "<h2>Is a number always be a number?</h2>"
   ]
  },
  {
   "cell_type": "markdown",
   "id": "d2cc3b0c-5871-4e0d-a650-78bba0deb2ac",
   "metadata": {},
   "source": [
    "Cast a <code>str</code> -> \"1\" to an <code>int</code> and then <code>bool</code>"
   ]
  },
  {
   "cell_type": "markdown",
   "id": "aa627f19-9c22-4830-b95a-9786a19c7ede",
   "metadata": {
    "tags": []
   },
   "source": [
    "<details><summary>Click here for Solution</summary>\n",
    "\n",
    "```python\n",
    "print(int(\"1\"))\n",
    "print(bool(\"1\"))\n",
    "\n",
    "OR \n",
    "\n",
    "print(bool(int(\"1\")))\n",
    "```\n",
    "    \n",
    "</details>"
   ]
  },
  {
   "cell_type": "markdown",
   "id": "8726339f-b935-4081-9c81-f2848c502321",
   "metadata": {
    "tags": []
   },
   "source": [
    "<hr>\n",
    "<center>\n",
    "    <h3 id = \"ref2\">Module 1.3 String Operations</h3>\n",
    "</center>"
   ]
  },
  {
   "cell_type": "markdown",
   "id": "23736ee2-df78-4503-8a73-b6cbc3c547d3",
   "metadata": {
    "tags": []
   },
   "source": [
    "<h3>Slicing</h3>\n",
    "\n",
    "Using slicing to find the first four elements of the following string:\n"
   ]
  },
  {
   "cell_type": "code",
   "execution_count": 60,
   "id": "6e4177d8-3bb9-4bb2-b54e-f92f10039cd8",
   "metadata": {
    "tags": []
   },
   "outputs": [
    {
     "data": {
      "text/plain": [
       "'ABCD'"
      ]
     },
     "execution_count": 60,
     "metadata": {},
     "output_type": "execute_result"
    }
   ],
   "source": [
    "Letters = \"ABCDEFGHIJ\"\n",
    "Letters[0:4]"
   ]
  },
  {
   "cell_type": "markdown",
   "id": "df6e9b3c-d411-47ff-acaf-4282463aadfb",
   "metadata": {},
   "source": [
    "<h3>Strides Are Good</h3>\n",
    "\n",
    "Use a stride value of 2 on the following stiring: "
   ]
  },
  {
   "cell_type": "code",
   "execution_count": 61,
   "id": "0b5a81b9-9fd6-48d3-b217-270a40f15704",
   "metadata": {
    "tags": []
   },
   "outputs": [
    {
     "data": {
      "text/plain": [
       "'Good'"
      ]
     },
     "execution_count": 61,
     "metadata": {},
     "output_type": "execute_result"
    }
   ],
   "source": [
    "Good = \"GsoAo+d\"\n",
    "Good[::2]"
   ]
  },
  {
   "cell_type": "markdown",
   "id": "204a62b4-70b4-4acf-b530-1926bcf47dc8",
   "metadata": {},
   "source": [
    "<h3>Coverting \"uppercase\" to \"UPPERCASE\"</h3>\n",
    "\n",
    "Convert the following string to the uppercase using the method <code>upper()</code>:"
   ]
  },
  {
   "cell_type": "code",
   "execution_count": 63,
   "id": "6f17141b-2d92-4792-b45b-bcdcf24df8d3",
   "metadata": {
    "tags": []
   },
   "outputs": [
    {
     "data": {
      "text/plain": [
       "'UPPERCASE'"
      ]
     },
     "execution_count": 63,
     "metadata": {},
     "output_type": "execute_result"
    }
   ],
   "source": [
    "\"uppercase\"\n",
    "\"uppercase\".upper()"
   ]
  },
  {
   "cell_type": "code",
   "execution_count": 1,
   "id": "f2de1ff0-5d16-4745-b0bb-8fcdfe7e04c9",
   "metadata": {
    "tags": []
   },
   "outputs": [
    {
     "name": "stdout",
     "output_type": "stream",
     "text": [
      "3.10.11 | packaged by Anaconda, Inc. | (main, Apr 20 2023, 18:56:50) [MSC v.1916 64 bit (AMD64)]\n"
     ]
    }
   ],
   "source": [
    "import sys\n",
    "print (sys.version)"
   ]
  },
  {
   "cell_type": "markdown",
   "id": "73323dfd-03fa-4aee-b034-d1b682dd2366",
   "metadata": {},
   "source": [
    "<hr/>\n",
    "<div class=\"alert alert-success alertsuccess\" style=\"margin-top: 20px\">\n",
    "    [Tip:] <code>sys</code> is a built-in module that contains many system-specific parameters and functions, including the Python version in use. Before using it, we must explictly <code>import</code> it.\n",
    "</div>\n",
    "<hr/"
   ]
  },
  {
   "cell_type": "code",
   "execution_count": 2,
   "id": "ea5ed4b2-2fe5-4a54-bca7-ec03368ebbad",
   "metadata": {
    "tags": []
   },
   "outputs": [
    {
     "data": {
      "text/plain": [
       "sys.float_info(max=1.7976931348623157e+308, max_exp=1024, max_10_exp=308, min=2.2250738585072014e-308, min_exp=-1021, min_10_exp=-307, dig=15, mant_dig=53, epsilon=2.220446049250313e-16, radix=2, rounds=1)"
      ]
     },
     "execution_count": 2,
     "metadata": {},
     "output_type": "execute_result"
    }
   ],
   "source": [
    "sys.float_info"
   ]
  },
  {
   "cell_type": "markdown",
   "id": "ccde18ba-8f8c-4afc-b4e6-8352b94afe97",
   "metadata": {
    "tags": []
   },
   "source": [
    "<h2>Change Log</h2>"
   ]
  },
  {
   "cell_type": "markdown",
   "id": "92ef7890-528b-47d9-9022-f16f2f55ccd0",
   "metadata": {},
   "source": [
    "\n",
    "<table>\n",
    "    <tr>\n",
    "        <th>Date (YYYY-MM-DD)</th>\n",
    "        <th>Version</th>\n",
    "        <th>Changed By</th>\n",
    "        <th>Change Description</th>\n",
    "    </tr>\n",
    "    <tr>\n",
    "        <td>2023-07-09</td>\n",
    "        <td>0.1</td>\n",
    "        <td>Arslan</td>\n",
    "        <td>Alignments</td>\n",
    "    </tr>\n",
    "</table>\n"
   ]
  },
  {
   "cell_type": "markdown",
   "id": "d2650507-3b7d-45be-b59e-d4ef7facf4ae",
   "metadata": {
    "tags": []
   },
   "source": [
    "<hr>\n",
    "\n",
    "<h3 align=\"center\"><a href=\"https://www.linkedin.com/in/mecxlan/\"> © Mecxlan </a><h3/>\n"
   ]
  }
 ],
 "metadata": {
  "kernelspec": {
   "display_name": "Python 3 (ipykernel)",
   "language": "python",
   "name": "python3"
  },
  "language_info": {
   "codemirror_mode": {
    "name": "ipython",
    "version": 3
   },
   "file_extension": ".py",
   "mimetype": "text/x-python",
   "name": "python",
   "nbconvert_exporter": "python",
   "pygments_lexer": "ipython3",
   "version": "3.10.11"
  }
 },
 "nbformat": 4,
 "nbformat_minor": 5
}
