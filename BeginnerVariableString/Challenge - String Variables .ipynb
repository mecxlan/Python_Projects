{
 "cells": [
  {
   "cell_type": "markdown",
   "id": "4dbc10c9",
   "metadata": {},
   "source": [
    "Author: [Muhammad Arslan](https://www.linkedin.com/in/mecxlan/) "
   ]
  },
  {
   "cell_type": "markdown",
   "id": "18fac2a2",
   "metadata": {},
   "source": [
    "### Practice Task \n",
    "Given the given text:\n",
    "\n",
    "1. Find the number of occurrences of the word \"Python\" in the text.\n",
    "2. Replace the word \"interpreted\" with \"dynamic\" and store the result in a new variable `new_text`.\n",
    "3. Capitalize the first letter of each word in `text` and store the result in a new variable `capitalized_text`.\n",
    "4. Split the text into sentences and store the result in a list `sentences`. Each sentence should end with a period (.).\n"
   ]
  },
  {
   "cell_type": "code",
   "execution_count": 2,
   "id": "42710e3a",
   "metadata": {},
   "outputs": [],
   "source": [
    "text = \"\"\"\n",
    "Python is a high-level programming language that is widely used for web development,\n",
    "scientific computing, data analysis, artificial intelligence, and more. Python is an interpreted language,\n",
    "meaning that the source code is executed line by line rather than compiled into machine code.\n",
    "Python is known for its simplicity, readability, and flexibility, \n",
    "making it a great choice for both beginners and experienced programmers.\n",
    "\"\"\""
   ]
  },
  {
   "cell_type": "code",
   "execution_count": 10,
   "id": "ed1f57a1",
   "metadata": {},
   "outputs": [
    {
     "name": "stdout",
     "output_type": "stream",
     "text": [
      "The word 'Python' appears 3 times in the text.\n",
      "The text consists of 2 sentences:\n",
      "1 \n",
      "Python is a high-level programming language that is widely used for web development,\n",
      "scientific computing, data analysis, artificial intelligence, and more.\n",
      "2 Python is an interpreted language,\n",
      "meaning that the source code is executed line by line rather than compiled into machine code.\n",
      "Python is known for its simplicity, readability, and flexibility, \n",
      "making it a great choice for both beginners and experienced programmers.\n",
      ".\n"
     ]
    }
   ],
   "source": [
    "# 1. Find the number of occurrences of the word \"Python\" in the text.\n",
    "print(\"The word 'Python' appears\", text.count(\"Python\"), \"times in the text.\")\n",
    "\n",
    "# 2. Replace the word \"interpreted\" with \"dynamic\" and store the reult in a `new_text`.\n",
    "new_text = text.replace(\"interpreted\",\"dynamic\")\n",
    "\n",
    "# 3. Capitalize the first letter of each word in `text` and store the result in a new variable `capitalized_text`.\n",
    "capitalized_text = text.title()\n",
    "\n",
    "# 4. Split the text into sentences and store the result in a list `sentences`. Each sentence should end with a period(.).\n",
    "sentences = text.split(\". \")\n",
    "print(\"The text consists of\", len(sentences), \"sentences:\")\n",
    "for i, sentence in enumerate(sentences):\n",
    "    print(i+1, sentence + \".\")"
   ]
  }
 ],
 "metadata": {
  "kernelspec": {
   "display_name": "Python 3 (ipykernel)",
   "language": "python",
   "name": "python3"
  },
  "language_info": {
   "codemirror_mode": {
    "name": "ipython",
    "version": 3
   },
   "file_extension": ".py",
   "mimetype": "text/x-python",
   "name": "python",
   "nbconvert_exporter": "python",
   "pygments_lexer": "ipython3",
   "version": "3.11.4"
  }
 },
 "nbformat": 4,
 "nbformat_minor": 5
}
